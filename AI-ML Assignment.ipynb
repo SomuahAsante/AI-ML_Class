{
 "cells": [
  {
   "cell_type": "markdown",
   "id": "5899ed39",
   "metadata": {},
   "source": [
    "### Machine Learning Assignment"
   ]
  },
  {
   "cell_type": "markdown",
   "id": "39278176",
   "metadata": {},
   "source": [
    "\n",
    "Exercise:-\n",
    "\n",
    "Using the datasets methods in sklearn (make_classification), create a\n",
    "data set with 500,000 observations and 3 classes. Add some noise too.\n",
    "\n",
    "1. Implement a neural network model with 4 hidden layers using Keras\n",
    "2. Varying the number of neurons and activation functions\n",
    "3. Plot the training and testing error, training and testing accuracy\n",
    "4. Plot the confusion matrix and write a summary of your findings.\n",
    "\n"
   ]
  },
  {
   "cell_type": "code",
   "execution_count": 1,
   "id": "eee4437e",
   "metadata": {},
   "outputs": [],
   "source": [
    "from sklearn.model_selection import train_test_split\n",
    "from sklearn.preprocessing import StandardScaler\n",
    "import pandas as pd\n",
    "import numpy as np"
   ]
  },
  {
   "cell_type": "code",
   "execution_count": 2,
   "id": "5bc5d8c2",
   "metadata": {},
   "outputs": [
    {
     "name": "stderr",
     "output_type": "stream",
     "text": [
      "2023-05-09 15:57:21.743520: I tensorflow/core/platform/cpu_feature_guard.cc:182] This TensorFlow binary is optimized to use available CPU instructions in performance-critical operations.\n",
      "To enable the following instructions: AVX2 AVX512F AVX512_VNNI FMA, in other operations, rebuild TensorFlow with the appropriate compiler flags.\n"
     ]
    }
   ],
   "source": []
  },
  {
   "cell_type": "code",
   "execution_count": 15,
   "id": "cee31726",
   "metadata": {},
   "outputs": [],
   "source": [
    "from sklearn.datasets import make_classification\n",
    "X, y = make_classification(n_samples=500000, n_features=10, n_classes=3, \n",
    "                       flip_y =0.05 , random_state=42, class_sep = 1.5, n_informative= 8 )"
   ]
  },
  {
   "cell_type": "code",
   "execution_count": 16,
   "id": "70d68d15",
   "metadata": {},
   "outputs": [
    {
     "data": {
      "text/plain": [
       "array([[ 1.90555709,  3.40141098,  2.1371159 , ..., -7.92295298,\n",
       "        -3.5034225 , -1.43964733],\n",
       "       [ 1.81761074,  2.01538928, -0.60126698, ..., -4.37021248,\n",
       "         0.43756382, -2.0731156 ],\n",
       "       [ 0.1446802 ,  0.52172376,  3.53067208, ..., -6.28363476,\n",
       "         2.26992086, -2.96258982],\n",
       "       ...,\n",
       "       [ 2.93214691,  2.74010571, -0.73425937, ..., -5.37457005,\n",
       "        -1.0720504 ,  0.52528091],\n",
       "       [ 0.81665207, -1.61936273, -1.89994547, ...,  2.55789239,\n",
       "         1.33214529,  1.70534247],\n",
       "       [-1.18700658,  1.52120698,  2.86243395, ...,  1.54784772,\n",
       "         2.72544363,  1.48986755]])"
      ]
     },
     "execution_count": 16,
     "metadata": {},
     "output_type": "execute_result"
    }
   ],
   "source": [
    "X"
   ]
  },
  {
   "cell_type": "code",
   "execution_count": 17,
   "id": "da59ae5a",
   "metadata": {},
   "outputs": [
    {
     "data": {
      "text/plain": [
       "array([2, 1, 0, ..., 2, 0, 2])"
      ]
     },
     "execution_count": 17,
     "metadata": {},
     "output_type": "execute_result"
    }
   ],
   "source": [
    "y"
   ]
  },
  {
   "cell_type": "code",
   "execution_count": 18,
   "id": "08b80c4f",
   "metadata": {},
   "outputs": [],
   "source": [
    "from sklearn.preprocessing import StandardScaler"
   ]
  },
  {
   "cell_type": "code",
   "execution_count": 19,
   "id": "63d50efa",
   "metadata": {},
   "outputs": [],
   "source": [
    "scaler = StandardScaler()\n",
    "X = scaler.fit_transform(X)\n",
    "y = to_categorical(y)"
   ]
  },
  {
   "cell_type": "code",
   "execution_count": 20,
   "id": "e91e7860",
   "metadata": {},
   "outputs": [],
   "source": [
    "X_train, X_test, y_train, y_test = train_test_split(X, y, \n",
    "                                                    test_size=0.3, \n",
    "                                                    random_state=42)"
   ]
  },
  {
   "cell_type": "code",
   "execution_count": 21,
   "id": "4299ade6",
   "metadata": {},
   "outputs": [
    {
     "name": "stdout",
     "output_type": "stream",
     "text": [
      "Epoch 1/10\n",
      "10938/10938 [==============================] - 22s 2ms/step - loss: 0.2119 - accuracy: 0.9491 - val_loss: 0.1889 - val_accuracy: 0.9575\n",
      "Epoch 2/10\n",
      "10938/10938 [==============================] - 23s 2ms/step - loss: 0.1873 - accuracy: 0.9586 - val_loss: 0.1800 - val_accuracy: 0.9613\n",
      "Epoch 3/10\n",
      "10938/10938 [==============================] - 27s 2ms/step - loss: 0.1828 - accuracy: 0.9606 - val_loss: 0.1798 - val_accuracy: 0.9616\n",
      "Epoch 4/10\n",
      "10938/10938 [==============================] - 36s 3ms/step - loss: 0.1812 - accuracy: 0.9613 - val_loss: 0.1762 - val_accuracy: 0.9628\n",
      "Epoch 5/10\n",
      "10938/10938 [==============================] - 31s 3ms/step - loss: 0.1802 - accuracy: 0.9618 - val_loss: 0.1765 - val_accuracy: 0.9626\n",
      "Epoch 6/10\n",
      "10938/10938 [==============================] - 30s 3ms/step - loss: 0.1792 - accuracy: 0.9622 - val_loss: 0.1764 - val_accuracy: 0.9629\n",
      "Epoch 7/10\n",
      "10938/10938 [==============================] - 29s 3ms/step - loss: 0.1788 - accuracy: 0.9622 - val_loss: 0.1782 - val_accuracy: 0.9619\n",
      "Epoch 8/10\n",
      "10938/10938 [==============================] - 32s 3ms/step - loss: 0.1782 - accuracy: 0.9625 - val_loss: 0.1771 - val_accuracy: 0.9627\n",
      "Epoch 9/10\n",
      "10938/10938 [==============================] - 29s 3ms/step - loss: 0.1779 - accuracy: 0.9626 - val_loss: 0.1769 - val_accuracy: 0.9628\n",
      "Epoch 10/10\n",
      "10938/10938 [==============================] - 29s 3ms/step - loss: 0.1777 - accuracy: 0.9629 - val_loss: 0.1763 - val_accuracy: 0.9626\n"
     ]
    }
   ],
   "source": [
    "model = Sequential()\n",
    "model.add(Dense(64, activation='relu', input_dim=X_train.shape[1]))\n",
    "model.add(Dense(32, activation='relu'))\n",
    "model.add(Dense(16, activation='tanh'))\n",
    "model.add(Dense(16, activation='sigmoid'))\n",
    "model.add(Dense(3, activation='softmax'))\n",
    "model.compile(optimizer='adam', loss='categorical_crossentropy', metrics=['accuracy'])\n",
    "\n",
    "history = model.fit(X_train, y_train, \n",
    "                    validation_data=(X_test, y_test), \n",
    "                    epochs=10, batch_size=32)"
   ]
  },
  {
   "cell_type": "code",
   "execution_count": 13,
   "id": "c8a7b968",
   "metadata": {},
   "outputs": [
    {
     "name": "stdout",
     "output_type": "stream",
     "text": [
      "4688/4688 [==============================] - 9s 2ms/step\n"
     ]
    },
    {
     "data": {
      "text/plain": [
       "Text(33.0, 0.5, 'True labels')"
      ]
     },
     "execution_count": 13,
     "metadata": {},
     "output_type": "execute_result"
    },
    {
     "data": {
      "image/png": "[encoded data removed]",
      "text/plain": [
       "<Figure size 432x288 with 2 Axes>"
      ]
     },
     "metadata": {
      "needs_background": "light"
     },
     "output_type": "display_data"
    }
   ],
   "source": [
    "from sklearn.metrics import confusion_matrix\n",
    "import seaborn as sns\n",
    "\n",
    "y_pred = model.predict(X_test)\n",
    "y_pred = np.argmax(y_pred, axis=1)\n",
    "\n",
    "cm = confusion_matrix(np.argmax(y_test, axis=1), y_pred)\n",
    "sns.heatmap(cm, annot=True, cmap='Blues')\n",
    "plt.xlabel('Predicted labels')\n",
    "plt.ylabel('True labels')"
   ]
  },
  {
   "cell_type": "code",
   "execution_count": 14,
   "id": "7e6e18a8",
   "metadata": {},
   "outputs": [
    {
     "data": {
      "image/png": "[encoded data removed]",
      "text/plain": [
       "<Figure size 432x288 with 1 Axes>"
      ]
     },
     "metadata": {
      "needs_background": "light"
     },
     "output_type": "display_data"
    },
    {
     "data": {
      "image/png": "[encoded data removed]",
      "text/plain": [
       "<Figure size 432x288 with 1 Axes>"
      ]
     },
     "metadata": {
      "needs_background": "light"
     },
     "output_type": "display_data"
    }
   ],
   "source": [
    "plt.plot(history.history['loss'])\n",
    "plt.plot(history.history['val_loss'])\n",
    "plt.title('Model Loss')\n",
    "plt.ylabel('Loss')\n",
    "plt.xlabel('Epoch')\n",
    "plt.legend(['Train', 'Test'], loc='upper right')\n",
    "plt.show()\n",
    "\n",
    "plt.plot(history.history['accuracy'])\n",
    "plt.plot(history.history['val_accuracy'])\n",
    "plt.title('Model Accuracy')\n",
    "plt.ylabel('Accuracy')\n",
    "plt.xlabel('Epoch')\n",
    "plt.legend(['Train', 'Test'], loc='lower right')\n",
    "plt.show()"
   ]
  },
  {
   "cell_type": "code",
   "execution_count": null,
   "id": "0c060d77",
   "metadata": {},
   "outputs": [],
   "source": []
  }
 ],
 "metadata": {
  "kernelspec": {
   "display_name": "Python 3 (ipykernel)",
   "language": "python",
   "name": "python3"
  },
  "language_info": {
   "codemirror_mode": {
    "name": "ipython",
    "version": 3
   },
   "file_extension": ".py",
   "mimetype": "text/x-python",
   "name": "python",
   "nbconvert_exporter": "python",
   "pygments_lexer": "ipython3",
   "version": "3.9.12"
  }
 },
 "nbformat": 4,
 "nbformat_minor": 5
}
